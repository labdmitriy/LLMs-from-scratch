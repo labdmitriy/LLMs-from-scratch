{
 "cells": [
  {
   "cell_type": "code",
   "execution_count": 1,
   "metadata": {
    "id": "6-Qc3KRJ2ZXL"
   },
   "outputs": [],
   "source": [
    "import timeit\n",
    "\n",
    "import numpy as np\n",
    "import torch"
   ]
  },
  {
   "cell_type": "code",
   "execution_count": 2,
   "metadata": {
    "colab": {
     "base_uri": "https://localhost:8080/"
    },
    "id": "giIr9uja6QSH",
    "outputId": "2ac9597b-76be-4690-ffc8-61c48f598d9c"
   },
   "outputs": [
    {
     "data": {
      "text/plain": [
       "True"
      ]
     },
     "execution_count": 2,
     "metadata": {},
     "output_type": "execute_result"
    }
   ],
   "source": [
    "torch.cuda.is_available()"
   ]
  },
  {
   "cell_type": "code",
   "execution_count": 3,
   "metadata": {
    "colab": {
     "base_uri": "https://localhost:8080/"
    },
    "id": "o5bqCiPD2ewm",
    "outputId": "c3e9887f-941d-4bad-b882-066f93f8606a"
   },
   "outputs": [
    {
     "data": {
      "text/plain": [
       "(tensor([[0.7518, 0.1929, 0.0629],\n",
       "         [0.9118, 0.3828, 0.2990],\n",
       "         [0.5933, 0.2911, 0.2416]]),\n",
       " tensor([[0.5582, 0.0481, 0.3497],\n",
       "         [0.3520, 0.9528, 0.0284],\n",
       "         [0.8488, 0.3947, 0.5181]]),\n",
       " tensor([[0.9726, 0.8813, 0.0056],\n",
       "         [0.3056, 0.9384, 0.7949],\n",
       "         [0.4399, 0.1766, 0.8739]], device='cuda:0'),\n",
       " tensor([[0.1425, 0.4682, 0.6254],\n",
       "         [0.3040, 0.7923, 0.4691],\n",
       "         [0.6875, 0.9917, 0.2772]], device='cuda:0'))"
      ]
     },
     "execution_count": 3,
     "metadata": {},
     "output_type": "execute_result"
    }
   ],
   "source": [
    "torch.manual_seed(seed=25)\n",
    "\n",
    "size = 3\n",
    "\n",
    "a_cpu = torch.rand((size, size))\n",
    "b_cpu = torch.rand((size, size))\n",
    "\n",
    "a_gpu = torch.rand((size, size)).to('cuda')\n",
    "b_gpu = torch.rand((size, size)).to('cuda')\n",
    "\n",
    "a_cpu, b_cpu, a_gpu, b_gpu"
   ]
  },
  {
   "cell_type": "code",
   "execution_count": 18,
   "metadata": {
    "colab": {
     "base_uri": "https://localhost:8080/"
    },
    "id": "nB5S5ucm3fnD",
    "outputId": "43d6ef94-78df-4cdc-a7af-e8f7382744e4"
   },
   "outputs": [
    {
     "data": {
      "text/plain": [
       "array([  10,   16,   27,   46,   77,  129,  215,  359,  599, 1000])"
      ]
     },
     "execution_count": 18,
     "metadata": {},
     "output_type": "execute_result"
    }
   ],
   "source": [
    "sizes = np.logspace(start=1, stop=3, base=10, num=10, dtype='int')\n",
    "sizes"
   ]
  },
  {
   "cell_type": "code",
   "execution_count": 19,
   "metadata": {
    "colab": {
     "base_uri": "https://localhost:8080/"
    },
    "id": "u8r9TOGJ4L9w",
    "outputId": "a37a251c-0e83-426d-9575-1bea84ef4e44"
   },
   "outputs": [
    {
     "name": "stdout",
     "output_type": "stream",
     "text": [
      "10\n",
      "CPU: 0.004221938999762642\n",
      "GPU: 0.010856169999897247\n",
      "\n",
      "16\n",
      "CPU: 0.004214320999381016\n",
      "GPU: 0.010659270999894943\n",
      "\n",
      "27\n",
      "CPU: 0.00461152400021092\n",
      "GPU: 0.01113562600039586\n",
      "\n",
      "46\n",
      "CPU: 0.005908520000048156\n",
      "GPU: 0.011284045000138576\n",
      "\n",
      "77\n",
      "CPU: 0.009652632999859634\n",
      "GPU: 0.01167060300031153\n",
      "\n",
      "129\n",
      "CPU: 0.019891240000106336\n",
      "GPU: 0.01097854300041945\n",
      "\n",
      "215\n",
      "CPU: 0.06608145800055354\n",
      "GPU: 0.011664187999485875\n",
      "\n",
      "359\n",
      "CPU: 0.23586963399975502\n",
      "GPU: 0.011807068000052823\n",
      "\n",
      "599\n",
      "CPU: 1.0229465570000684\n",
      "GPU: 0.04277707900018868\n",
      "\n",
      "1000\n",
      "CPU: 4.174758564999138\n",
      "GPU: 0.24110733900033665\n",
      "\n"
     ]
    }
   ],
   "source": [
    "for size in sizes:\n",
    "    print(size)\n",
    "    cpu_time = timeit.timeit(\n",
    "        stmt='a_cpu @ b_cpu',\n",
    "        setup=f'import torch; size={size}; torch.manual_seed(seed=25);'\n",
    "               'a_cpu = torch.rand((size, size));'\n",
    "               'b_cpu = torch.rand((size, size))',\n",
    "        number=1000\n",
    "    )\n",
    "    print(f'CPU: {cpu_time}')\n",
    "    gpu_time = timeit.timeit(\n",
    "        stmt='a_gpu @ b_gpu',\n",
    "        setup=f'import torch; size={size}; torch.manual_seed(seed=25);'\n",
    "               'a_gpu = torch.rand((size, size)).to(\"cuda\");'\n",
    "               'b_gpu = torch.rand((size, size)).to(\"cuda\")',\n",
    "        number=1000\n",
    "    )\n",
    "    print(f'GPU: {gpu_time}')\n",
    "    print()"
   ]
  }
 ],
 "metadata": {
  "accelerator": "GPU",
  "colab": {
   "gpuType": "T4",
   "provenance": []
  },
  "kernelspec": {
   "display_name": "Python 3 (ipykernel)",
   "language": "python",
   "name": "python3"
  },
  "language_info": {
   "codemirror_mode": {
    "name": "ipython",
    "version": 3
   },
   "file_extension": ".py",
   "mimetype": "text/x-python",
   "name": "python",
   "nbconvert_exporter": "python",
   "pygments_lexer": "ipython3",
   "version": "3.9.5"
  }
 },
 "nbformat": 4,
 "nbformat_minor": 4
}
